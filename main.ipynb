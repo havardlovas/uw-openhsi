{
 "cells": [
  {
   "cell_type": "code",
   "execution_count": 10,
   "metadata": {},
   "outputs": [],
   "source": [
    "import os\n",
    "import glob\n",
    "import netCDF4"
   ]
  },
  {
   "cell_type": "code",
   "execution_count": 15,
   "metadata": {},
   "outputs": [],
   "source": [
    "capture_path = os.path.join(\"captured_data\", 'black_white_lines')\n",
    "\n",
    "hsi_dir = os.path.join(capture_path, r'hsi_dir\\2024_10_03')\n",
    "\n",
    "cube_path = glob.glob(os.path.join(hsi_dir, '*.nc'))[0]"
   ]
  },
  {
   "cell_type": "code",
   "execution_count": 18,
   "metadata": {},
   "outputs": [],
   "source": [
    "data = netCDF4.Dataset(cube_path, 'r')"
   ]
  },
  {
   "cell_type": "code",
   "execution_count": 19,
   "metadata": {},
   "outputs": [
    {
     "name": "stdout",
     "output_type": "stream",
     "text": [
      "<class 'netCDF4._netCDF4.Variable'>\n",
      "uint16 datacube(wavelength, x, y)\n",
      "    long_name: hyperspectral datacube\n",
      "    units: digital number\n",
      "    description: hyperspectral datacube\n",
      "unlimited dimensions: \n",
      "current shape = (1216, 1936, 200)\n",
      "filling on, default _FillValue of 65535 used\n"
     ]
    }
   ],
   "source": [
    "datacube = data.variables['datacube']  # Replace 'datacube' with your variable\n",
    "\n",
    "# Organized as band, x, y\n",
    "print(datacube)"
   ]
  }
 ],
 "metadata": {
  "kernelspec": {
   "display_name": "Python 3",
   "language": "python",
   "name": "python3"
  },
  "language_info": {
   "codemirror_mode": {
    "name": "ipython",
    "version": 3
   },
   "file_extension": ".py",
   "mimetype": "text/x-python",
   "name": "python",
   "nbconvert_exporter": "python",
   "pygments_lexer": "ipython3",
   "version": "3.10.14"
  }
 },
 "nbformat": 4,
 "nbformat_minor": 2
}
